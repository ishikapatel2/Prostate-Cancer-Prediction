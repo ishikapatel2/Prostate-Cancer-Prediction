{
 "cells": [
  {
   "cell_type": "code",
   "execution_count": 1,
   "metadata": {
    "id": "HMMHdFuCM2TB"
   },
   "outputs": [],
   "source": [
    "#imports\n",
    "import pandas as pd\n",
    "import itertools\n",
    "from sklearn.model_selection import cross_val_score\n",
    "from sklearn import linear_model\n",
    "import matplotlib.pyplot as plt\n",
    "import numpy as np\n",
    "import warnings\n",
    "# Suppress warnings\n",
    "warnings.filterwarnings(\"ignore\")"
   ]
  },
  {
   "cell_type": "code",
   "execution_count": 2,
   "metadata": {
    "colab": {
     "base_uri": "https://localhost:8080/",
     "height": 206
    },
    "id": "jV0v7VU1O2NS",
    "outputId": "df993db4-f613-4c67-b64c-ab6ef078fb0f"
   },
   "outputs": [
    {
     "data": {
      "text/html": [
       "<div>\n",
       "<style scoped>\n",
       "    .dataframe tbody tr th:only-of-type {\n",
       "        vertical-align: middle;\n",
       "    }\n",
       "\n",
       "    .dataframe tbody tr th {\n",
       "        vertical-align: top;\n",
       "    }\n",
       "\n",
       "    .dataframe thead th {\n",
       "        text-align: right;\n",
       "    }\n",
       "</style>\n",
       "<table border=\"1\" class=\"dataframe\">\n",
       "  <thead>\n",
       "    <tr style=\"text-align: right;\">\n",
       "      <th></th>\n",
       "      <th>lcavol</th>\n",
       "      <th>lweight</th>\n",
       "      <th>age</th>\n",
       "      <th>lbph</th>\n",
       "      <th>svi</th>\n",
       "      <th>lcp</th>\n",
       "      <th>gleason</th>\n",
       "      <th>pgg45</th>\n",
       "      <th>lpsa</th>\n",
       "    </tr>\n",
       "  </thead>\n",
       "  <tbody>\n",
       "    <tr>\n",
       "      <th>0</th>\n",
       "      <td>-0.579818</td>\n",
       "      <td>2.769459</td>\n",
       "      <td>50</td>\n",
       "      <td>-1.386294</td>\n",
       "      <td>0</td>\n",
       "      <td>-1.386294</td>\n",
       "      <td>6</td>\n",
       "      <td>0</td>\n",
       "      <td>-0.430783</td>\n",
       "    </tr>\n",
       "    <tr>\n",
       "      <th>1</th>\n",
       "      <td>-0.994252</td>\n",
       "      <td>3.319626</td>\n",
       "      <td>58</td>\n",
       "      <td>-1.386294</td>\n",
       "      <td>0</td>\n",
       "      <td>-1.386294</td>\n",
       "      <td>6</td>\n",
       "      <td>0</td>\n",
       "      <td>-0.162519</td>\n",
       "    </tr>\n",
       "    <tr>\n",
       "      <th>2</th>\n",
       "      <td>-0.510826</td>\n",
       "      <td>2.691243</td>\n",
       "      <td>74</td>\n",
       "      <td>-1.386294</td>\n",
       "      <td>0</td>\n",
       "      <td>-1.386294</td>\n",
       "      <td>7</td>\n",
       "      <td>20</td>\n",
       "      <td>-0.162519</td>\n",
       "    </tr>\n",
       "    <tr>\n",
       "      <th>3</th>\n",
       "      <td>-1.203973</td>\n",
       "      <td>3.282789</td>\n",
       "      <td>58</td>\n",
       "      <td>-1.386294</td>\n",
       "      <td>0</td>\n",
       "      <td>-1.386294</td>\n",
       "      <td>6</td>\n",
       "      <td>0</td>\n",
       "      <td>-0.162519</td>\n",
       "    </tr>\n",
       "    <tr>\n",
       "      <th>4</th>\n",
       "      <td>0.751416</td>\n",
       "      <td>3.432373</td>\n",
       "      <td>62</td>\n",
       "      <td>-1.386294</td>\n",
       "      <td>0</td>\n",
       "      <td>-1.386294</td>\n",
       "      <td>6</td>\n",
       "      <td>0</td>\n",
       "      <td>0.371564</td>\n",
       "    </tr>\n",
       "  </tbody>\n",
       "</table>\n",
       "</div>"
      ],
      "text/plain": [
       "     lcavol   lweight  age      lbph  svi       lcp  gleason  pgg45      lpsa\n",
       "0 -0.579818  2.769459   50 -1.386294    0 -1.386294        6      0 -0.430783\n",
       "1 -0.994252  3.319626   58 -1.386294    0 -1.386294        6      0 -0.162519\n",
       "2 -0.510826  2.691243   74 -1.386294    0 -1.386294        7     20 -0.162519\n",
       "3 -1.203973  3.282789   58 -1.386294    0 -1.386294        6      0 -0.162519\n",
       "4  0.751416  3.432373   62 -1.386294    0 -1.386294        6      0  0.371564"
      ]
     },
     "execution_count": 2,
     "metadata": {},
     "output_type": "execute_result"
    }
   ],
   "source": [
    "df_train = pd.read_csv('prostate_train.csv')\n",
    "df_train.head()\n"
   ]
  },
  {
   "cell_type": "code",
   "execution_count": 3,
   "metadata": {
    "colab": {
     "base_uri": "https://localhost:8080/",
     "height": 206
    },
    "id": "4rJP2qpRSqXm",
    "outputId": "4bdad063-2e64-4fac-d37d-cd1ab2959108"
   },
   "outputs": [
    {
     "data": {
      "text/html": [
       "<div>\n",
       "<style scoped>\n",
       "    .dataframe tbody tr th:only-of-type {\n",
       "        vertical-align: middle;\n",
       "    }\n",
       "\n",
       "    .dataframe tbody tr th {\n",
       "        vertical-align: top;\n",
       "    }\n",
       "\n",
       "    .dataframe thead th {\n",
       "        text-align: right;\n",
       "    }\n",
       "</style>\n",
       "<table border=\"1\" class=\"dataframe\">\n",
       "  <thead>\n",
       "    <tr style=\"text-align: right;\">\n",
       "      <th></th>\n",
       "      <th>lcavol</th>\n",
       "      <th>lweight</th>\n",
       "      <th>age</th>\n",
       "      <th>lbph</th>\n",
       "      <th>svi</th>\n",
       "      <th>lcp</th>\n",
       "      <th>gleason</th>\n",
       "      <th>pgg45</th>\n",
       "    </tr>\n",
       "  </thead>\n",
       "  <tbody>\n",
       "    <tr>\n",
       "      <th>0</th>\n",
       "      <td>-0.579818</td>\n",
       "      <td>2.769459</td>\n",
       "      <td>50</td>\n",
       "      <td>-1.386294</td>\n",
       "      <td>0</td>\n",
       "      <td>-1.386294</td>\n",
       "      <td>6</td>\n",
       "      <td>0</td>\n",
       "    </tr>\n",
       "    <tr>\n",
       "      <th>1</th>\n",
       "      <td>-0.994252</td>\n",
       "      <td>3.319626</td>\n",
       "      <td>58</td>\n",
       "      <td>-1.386294</td>\n",
       "      <td>0</td>\n",
       "      <td>-1.386294</td>\n",
       "      <td>6</td>\n",
       "      <td>0</td>\n",
       "    </tr>\n",
       "    <tr>\n",
       "      <th>2</th>\n",
       "      <td>-0.510826</td>\n",
       "      <td>2.691243</td>\n",
       "      <td>74</td>\n",
       "      <td>-1.386294</td>\n",
       "      <td>0</td>\n",
       "      <td>-1.386294</td>\n",
       "      <td>7</td>\n",
       "      <td>20</td>\n",
       "    </tr>\n",
       "    <tr>\n",
       "      <th>3</th>\n",
       "      <td>-1.203973</td>\n",
       "      <td>3.282789</td>\n",
       "      <td>58</td>\n",
       "      <td>-1.386294</td>\n",
       "      <td>0</td>\n",
       "      <td>-1.386294</td>\n",
       "      <td>6</td>\n",
       "      <td>0</td>\n",
       "    </tr>\n",
       "    <tr>\n",
       "      <th>4</th>\n",
       "      <td>0.751416</td>\n",
       "      <td>3.432373</td>\n",
       "      <td>62</td>\n",
       "      <td>-1.386294</td>\n",
       "      <td>0</td>\n",
       "      <td>-1.386294</td>\n",
       "      <td>6</td>\n",
       "      <td>0</td>\n",
       "    </tr>\n",
       "  </tbody>\n",
       "</table>\n",
       "</div>"
      ],
      "text/plain": [
       "     lcavol   lweight  age      lbph  svi       lcp  gleason  pgg45\n",
       "0 -0.579818  2.769459   50 -1.386294    0 -1.386294        6      0\n",
       "1 -0.994252  3.319626   58 -1.386294    0 -1.386294        6      0\n",
       "2 -0.510826  2.691243   74 -1.386294    0 -1.386294        7     20\n",
       "3 -1.203973  3.282789   58 -1.386294    0 -1.386294        6      0\n",
       "4  0.751416  3.432373   62 -1.386294    0 -1.386294        6      0"
      ]
     },
     "execution_count": 3,
     "metadata": {},
     "output_type": "execute_result"
    }
   ],
   "source": [
    "df_test = pd.read_csv('prostate_test.csv')\n",
    "\n",
    "features = ['lcavol', 'lweight', 'age', 'lbph', 'svi', 'lcp', 'gleason', 'pgg45']\n",
    "output = ['lpsa']\n",
    "X_train = df_train[features]\n",
    "Y_train = df_train[output]\n",
    "X_test = df_test[features]\n",
    "Y_test = df_test[output]\n",
    "\n",
    "X_train.head()"
   ]
  },
  {
   "cell_type": "code",
   "execution_count": 4,
   "metadata": {
    "colab": {
     "base_uri": "https://localhost:8080/",
     "height": 312
    },
    "id": "v8RGYe8xP2iO",
    "outputId": "8f3d4974-13ae-48ac-febe-f7a0292a6b16"
   },
   "outputs": [
    {
     "name": "stdout",
     "output_type": "stream",
     "text": [
      "R squared:  0.5375164690552883\n"
     ]
    },
    {
     "data": {
      "image/png": "[encoded data removed]",
      "text/plain": [
       "<Figure size 640x480 with 1 Axes>"
      ]
     },
     "metadata": {},
     "output_type": "display_data"
    }
   ],
   "source": [
    "# training model on 'lcavol' feature\n",
    "linear_reg = linear_model.LinearRegression()\n",
    "linear_reg.fit(X_train['lcavol'].values.reshape(-1,1), Y_train)\n",
    "r_squared = linear_reg.score(X_train['lcavol'].values.reshape(-1,1), Y_train)\n",
    "print('R squared: ', r_squared)\n",
    "\n",
    "# plot\n",
    "x_axis = np.arange(X_train['lcavol'].min(), X_train['lcavol'].max(), 0.5)\n",
    "y_axis = linear_reg.predict(x_axis.reshape(-1,1))\n",
    "plt.scatter(X_train['lcavol'], Y_train, color='pink')\n",
    "plt.plot(x_axis, y_axis, color='green', linewidth=5)\n",
    "plt.xlabel('lcavol')\n",
    "plt.ylabel('lpsa')\n",
    "plt.title('Linear Regression')\n",
    "plt.show()"
   ]
  },
  {
   "cell_type": "code",
   "execution_count": 5,
   "metadata": {
    "id": "7jNdoPr4lYw4"
   },
   "outputs": [],
   "source": [
    "# Returns a set of all subsets of size k\n",
    "def findsubsets(S,k):\n",
    "    return set(itertools.combinations(S, k))"
   ]
  },
  {
   "cell_type": "code",
   "execution_count": 6,
   "metadata": {
    "colab": {
     "base_uri": "https://localhost:8080/"
    },
    "id": "TmfGnsvgmmKO",
    "outputId": "72faa203-5832-422c-e478-3858439b40c4"
   },
   "outputs": [
    {
     "name": "stdout",
     "output_type": "stream",
     "text": [
      "Highest average r-squared:  -6.611191159159722\n",
      "Best performing set of features:  ('lcavol', 'lweight', 'age')\n"
     ]
    }
   ],
   "source": [
    "# Best subset feature selection\n",
    "from sklearn.model_selection import KFold\n",
    "\n",
    "# Finds all possible subsets of 3 features \n",
    "subsets = findsubsets(features, 3)\n",
    "highest_r_squared = -np.Inf\n",
    "highest_features = []\n",
    "\n",
    "# 5-fold cross validations \n",
    "for x in subsets:\n",
    "    element = X_train[list(x)]\n",
    "    cvs = cross_val_score(linear_model.LinearRegression(), element, Y_train, cv=5, scoring='r2')\n",
    "    avg = cvs.mean()\n",
    "    if avg > highest_r_squared:\n",
    "        highest_r_squared = avg\n",
    "        highest_features = x\n",
    "        \n",
    "# Finds the best performing set of features and corresponding R^2 value\n",
    "print(\"Highest average r-squared: \", highest_r_squared)\n",
    "print(\"Best performing set of features: \", highest_features)\n"
   ]
  },
  {
   "cell_type": "code",
   "execution_count": 7,
   "metadata": {
    "colab": {
     "base_uri": "https://localhost:8080/",
     "height": 330
    },
    "id": "dWIabcOp884h",
    "outputId": "233cfa21-47e6-4626-d41d-e9beeaaec76b"
   },
   "outputs": [
    {
     "name": "stdout",
     "output_type": "stream",
     "text": [
      "Highest average r-squared:  -6.507279708487543\n",
      "Best features:  ('lcavol', 'lweight')\n"
     ]
    },
    {
     "data": {
      "image/png": "[encoded data removed]",
      "text/plain": [
       "<Figure size 640x480 with 1 Axes>"
      ]
     },
     "metadata": {},
     "output_type": "display_data"
    }
   ],
   "source": [
    "from sklearn.metrics import r2_score\n",
    "scores = []\n",
    "k_array = []\n",
    "highest_avg = -np.Inf + np.zeros(len(features)+1)\n",
    "highest_features = [[]]\n",
    "\n",
    "# Finds all possible subsets of k features and evaluates a model on each set of features\n",
    "# using 5-fold cross validation\n",
    "\n",
    "for k in range(1,len(features)+1):\n",
    "    highest_features.append([])\n",
    "    subsets = list(findsubsets(features,k))\n",
    "    \n",
    "    for i in range(len(subsets)):\n",
    "        element = X_train[list(subsets[i])]\n",
    "        cvs = cross_val_score(linear_model.LinearRegression(), element, Y_train, cv=5, scoring='r2')\n",
    "        avg = cvs.mean()\n",
    "        scores.append(avg)\n",
    "        k_array.append(k)\n",
    "        if avg > highest_avg[k]:\n",
    "            highest_avg[k] = avg\n",
    "            highest_features[k] = subsets[i]\n",
    "\n",
    "index = np.argmax(highest_avg)\n",
    "top_features_final = highest_features[index]\n",
    "print(\"Highest average r-squared: \", highest_avg[index])\n",
    "print(\"Best features: \", top_features_final)\n",
    "\n",
    "# Scatter plot shows every R^2 values for every run with subset size on the horizontal axis \n",
    "# and R^2 on the vertical axi s\n",
    "plt.scatter(k_array, scores)\n",
    "plt.plot(range(len(features)+1), highest_avg)\n",
    "plt.title(\"Subset Size vs. R^2\")\n",
    "plt.xlabel(\"Subset Size\")\n",
    "plt.ylabel(\"R^2\")\n",
    "plt.show()"
   ]
  },
  {
   "cell_type": "code",
   "execution_count": 8,
   "metadata": {
    "colab": {
     "base_uri": "https://localhost:8080/"
    },
    "id": "602shAoTWTU4",
    "outputId": "27600aab-6aba-424d-cc68-2940461f09ce"
   },
   "outputs": [
    {
     "name": "stdout",
     "output_type": "stream",
     "text": [
      "lcavol : 0.576706\n",
      "lweight : 0.593447\n",
      "age : -0.018544\n",
      "lbph : 0.145617\n",
      "svi : 0.683643\n",
      "lcp : -0.193621\n",
      "gleason : -0.034175\n",
      "pgg45 : 0.009508\n"
     ]
    }
   ],
   "source": [
    "# Ridge Regression \n",
    "\n",
    "def printFeatureWeights(f, w):\n",
    "  for idx in range(len(f)):\n",
    "    print('%s : %f' % (f[idx], w[idx]))\n",
    "\n",
    "features = ['lcavol', 'lweight', 'age', 'lbph', 'svi', 'lcp', 'gleason', 'pgg45']\n",
    "l2 = linear_model.Ridge(alpha=0.5).fit(X_train, Y_train)\n",
    "printFeatureWeights(features, l2.coef_[0])"
   ]
  },
  {
   "cell_type": "code",
   "execution_count": 9,
   "metadata": {
    "colab": {
     "base_uri": "https://localhost:8080/",
     "height": 316
    },
    "id": "sB7WSC0EWTXr",
    "outputId": "08560d04-22a0-4042-bab7-b4018caf2b06"
   },
   "outputs": [
    {
     "name": "stdout",
     "output_type": "stream",
     "text": [
      "Best Alpha:  6.25055192527397\n"
     ]
    },
    {
     "data": {
      "image/png": "[encoded data removed]",
      "text/plain": [
       "<Figure size 640x480 with 1 Axes>"
      ]
     },
     "metadata": {},
     "output_type": "display_data"
    }
   ],
   "source": [
    "# created a range of 50 alpha values spaces logarithmically\n",
    "alpha_arr = np.logspace(-1,3,num=50)\n",
    "cv = 5\n",
    "scores = np.zeros((len(alpha_arr), cv))\n",
    "# 5-fold cross validation of Ridge regression for each alpha\n",
    "# recording R^2 score for each run\n",
    "for index in range(len(alpha_arr)):\n",
    "    l2 = linear_model.Ridge(alpha=alpha_arr[index])\n",
    "    scores[index,:] = cross_val_score(l2, X_train, Y_train, cv=cv, scoring='r2')\n",
    "    \n",
    "avg_r2 = np.mean(scores, axis=1)\n",
    "std_r2 = np.std(scores, axis=1)\n",
    "best_index = np.argmax(avg_r2)\n",
    "best_alpha = alpha_arr[best_index]\n",
    "print(\"Best Alpha: \", best_alpha)\n",
    "\n",
    "# This plot shows the average R^2 with 1 SD error bars for each of the 50 alpha value\n",
    "plt.errorbar(alpha_arr, avg_r2, yerr=std_r2, label='Avg R^2')\n",
    "plt.axvline(best_alpha, linestyle='--', color=\"yellow\", label=\"Best Alpha\")\n",
    "plt.xscale('log')\n",
    "plt.xlabel('alpha')\n",
    "plt.ylabel(\"R^2\")\n",
    "plt.title(\"Model Selection L2\")\n",
    "plt.legend()\n",
    "plt.show()\n"
   ]
  },
  {
   "cell_type": "code",
   "execution_count": 20,
   "metadata": {
    "colab": {
     "base_uri": "https://localhost:8080/"
    },
    "id": "w86quobv5V28",
    "outputId": "36bb7888-f051-447e-b18d-2fcf528f70f3"
   },
   "outputs": [
    {
     "name": "stdout",
     "output_type": "stream",
     "text": [
      "lcavol : 0.538986\n",
      "lweight : 0.184891\n",
      "age : -0.006352\n",
      "lbph : 0.128433\n",
      "svi : 0.000000\n",
      "lcp : -0.000000\n",
      "gleason : -0.000000\n",
      "pgg45 : 0.007727\n"
     ]
    }
   ],
   "source": [
    "# LASSO method\n",
    "\n",
    "l1 = linear_model.Lasso(alpha=0.1).fit(X_train, Y_train)\n",
    "\n",
    "# learned feature weights \n",
    "printFeatureWeights(features, l1.coef_)"
   ]
  },
  {
   "cell_type": "code",
   "execution_count": 104,
   "metadata": {
    "colab": {
     "base_uri": "https://localhost:8080/",
     "height": 299
    },
    "id": "_GkcB0rKWEyS",
    "outputId": "5b4271f5-ced0-4e65-e776-5dd88575194a"
   },
   "outputs": [
    {
     "data": {
      "image/png": "[encoded data removed]",
      "text/plain": [
       "<Figure size 640x480 with 1 Axes>"
      ]
     },
     "metadata": {},
     "output_type": "display_data"
    }
   ],
   "source": [
    "from sklearn.linear_model import LassoLarsCV, LassoCV\n",
    "\n",
    "# finding good value for alpha and corresponding average mean squared error from using cross-validation \n",
    "\n",
    "cross_val = LassoLarsCV(cv=20, normalize=False).fit(X_train, Y_train)\n",
    "alpha = cross_val.alpha_\n",
    "\n",
    "\n",
    "plt.errorbar(cross_val.cv_alphas_, cross_val.mse_path_.mean(axis=1), yerr=cross_val.mse_path_.std(axis=1))\n",
    "plt.axvline(alpha, color=\"black\", label=\"alpha\")\n",
    "plt.xscale('log')\n",
    "plt.xlabel('alpha')\n",
    "plt.ylabel('MSE')\n",
    "plt.title('Alpha vs. MSE')\n",
    "plt.legend()\n",
    "plt.show()"
   ]
  },
  {
   "cell_type": "code",
   "execution_count": 63,
   "metadata": {
    "colab": {
     "base_uri": "https://localhost:8080/",
     "height": 206
    },
    "id": "hbrUoMTEQ3v6",
    "outputId": "a31322a5-cad8-4d44-cf71-40da63922e2d"
   },
   "outputs": [
    {
     "data": {
      "text/html": [
       "<div>\n",
       "<style scoped>\n",
       "    .dataframe tbody tr th:only-of-type {\n",
       "        vertical-align: middle;\n",
       "    }\n",
       "\n",
       "    .dataframe tbody tr th {\n",
       "        vertical-align: top;\n",
       "    }\n",
       "\n",
       "    .dataframe thead th {\n",
       "        text-align: right;\n",
       "    }\n",
       "</style>\n",
       "<table border=\"1\" class=\"dataframe\">\n",
       "  <thead>\n",
       "    <tr style=\"text-align: right;\">\n",
       "      <th></th>\n",
       "      <th>lcavol</th>\n",
       "      <th>lweight</th>\n",
       "      <th>age</th>\n",
       "      <th>lbph</th>\n",
       "      <th>svi</th>\n",
       "      <th>lcp</th>\n",
       "      <th>gleason</th>\n",
       "      <th>pgg45</th>\n",
       "      <th>lpsa</th>\n",
       "    </tr>\n",
       "  </thead>\n",
       "  <tbody>\n",
       "    <tr>\n",
       "      <th>0</th>\n",
       "      <td>0.737164</td>\n",
       "      <td>3.473518</td>\n",
       "      <td>64</td>\n",
       "      <td>0.615186</td>\n",
       "      <td>0</td>\n",
       "      <td>-1.386294</td>\n",
       "      <td>6</td>\n",
       "      <td>0</td>\n",
       "      <td>0.765468</td>\n",
       "    </tr>\n",
       "    <tr>\n",
       "      <th>1</th>\n",
       "      <td>-0.776529</td>\n",
       "      <td>3.539509</td>\n",
       "      <td>47</td>\n",
       "      <td>-1.386294</td>\n",
       "      <td>0</td>\n",
       "      <td>-1.386294</td>\n",
       "      <td>6</td>\n",
       "      <td>0</td>\n",
       "      <td>1.047319</td>\n",
       "    </tr>\n",
       "    <tr>\n",
       "      <th>2</th>\n",
       "      <td>0.223144</td>\n",
       "      <td>3.244544</td>\n",
       "      <td>63</td>\n",
       "      <td>-1.386294</td>\n",
       "      <td>0</td>\n",
       "      <td>-1.386294</td>\n",
       "      <td>6</td>\n",
       "      <td>0</td>\n",
       "      <td>1.047319</td>\n",
       "    </tr>\n",
       "    <tr>\n",
       "      <th>3</th>\n",
       "      <td>1.205971</td>\n",
       "      <td>3.442019</td>\n",
       "      <td>57</td>\n",
       "      <td>-1.386294</td>\n",
       "      <td>0</td>\n",
       "      <td>-0.430783</td>\n",
       "      <td>7</td>\n",
       "      <td>5</td>\n",
       "      <td>1.398717</td>\n",
       "    </tr>\n",
       "    <tr>\n",
       "      <th>4</th>\n",
       "      <td>2.059239</td>\n",
       "      <td>3.501043</td>\n",
       "      <td>60</td>\n",
       "      <td>1.474763</td>\n",
       "      <td>0</td>\n",
       "      <td>1.348073</td>\n",
       "      <td>7</td>\n",
       "      <td>20</td>\n",
       "      <td>1.658228</td>\n",
       "    </tr>\n",
       "  </tbody>\n",
       "</table>\n",
       "</div>"
      ],
      "text/plain": [
       "     lcavol   lweight  age      lbph  svi       lcp  gleason  pgg45      lpsa\n",
       "0  0.737164  3.473518   64  0.615186    0 -1.386294        6      0  0.765468\n",
       "1 -0.776529  3.539509   47 -1.386294    0 -1.386294        6      0  1.047319\n",
       "2  0.223144  3.244544   63 -1.386294    0 -1.386294        6      0  1.047319\n",
       "3  1.205971  3.442019   57 -1.386294    0 -0.430783        7      5  1.398717\n",
       "4  2.059239  3.501043   60  1.474763    0  1.348073        7     20  1.658228"
      ]
     },
     "execution_count": 63,
     "metadata": {},
     "output_type": "execute_result"
    }
   ],
   "source": [
    "df_test = pd.read_csv('prostate_test.csv')\n",
    "df_test.head()"
   ]
  },
  {
   "cell_type": "code",
   "execution_count": 62,
   "metadata": {},
   "outputs": [],
   "source": [
    "X_test = df_test[['lcavol', 'lweight', 'age', 'lbph', 'svi', 'lcp', 'gleason', 'pgg45']]\n",
    "Y_test = df_test['lpsa']"
   ]
  },
  {
   "cell_type": "code",
   "execution_count": 78,
   "metadata": {
    "colab": {
     "base_uri": "https://localhost:8080/"
    },
    "id": "JgzXx_9-skMe",
    "outputId": "912aedf5-bc26-47ef-c839-857ca29c0d4e"
   },
   "outputs": [
    {
     "name": "stdout",
     "output_type": "stream",
     "text": [
      "MSE:  0.49248234768050353\n"
     ]
    }
   ],
   "source": [
    "from sklearn.metrics import mean_squared_error\n",
    "\n",
    "\n",
    "# Using the best selected features to train the model and reporting mean squared error and R^2 \n",
    "best_subsets = linear_model.LinearRegression()\n",
    "best_subsets.fit(X_train[list(top_features_final)],Y_train)\n",
    "predict =  best_subsets.predict(X_test[list(top_features_final)])\n",
    "\n",
    "best_mse = mean_squared_error(Y_test,predict)\n",
    "print('MSE: ', best_mse)"
   ]
  },
  {
   "cell_type": "code",
   "execution_count": 74,
   "metadata": {
    "colab": {
     "base_uri": "https://localhost:8080/"
    },
    "id": "S9y4YfduGk2p",
    "outputId": "bd804bf4-4f3a-4dc2-816c-3a52642f5d3e"
   },
   "outputs": [
    {
     "name": "stdout",
     "output_type": "stream",
     "text": [
      "MSE:  0.5273494592770828\n"
     ]
    }
   ],
   "source": [
    "# training a Ridge Regression model using optimal regularization coefficient\n",
    "best = linear_model.Ridge(alpha=best_alpha).fit(X_train, Y_train)\n",
    "print('MSE: ', mean_squared_error(Y_test, best.predict(X_test)))"
   ]
  },
  {
   "cell_type": "code",
   "execution_count": 76,
   "metadata": {
    "colab": {
     "base_uri": "https://localhost:8080/"
    },
    "id": "8Ms-CvC0F5Mp",
    "outputId": "079b272c-1a25-4f20-e1df-32ea9d683a4e"
   },
   "outputs": [
    {
     "name": "stdout",
     "output_type": "stream",
     "text": [
      "MSE:  0.5077062843682018\n"
     ]
    }
   ],
   "source": [
    "# training a LASSO Regression using optimal alpha params\n",
    "\n",
    "predict = cross_val.predict(X_test)\n",
    "mse = mean_squared_error(Y_test, lasso_predict)\n",
    "print('MSE: ', mse)"
   ]
  },
  {
   "cell_type": "code",
   "execution_count": 102,
   "metadata": {
    "id": "usOZK73IMnuG"
   },
   "outputs": [
    {
     "data": {
      "text/html": [
       "<div>\n",
       "<style scoped>\n",
       "    .dataframe tbody tr th:only-of-type {\n",
       "        vertical-align: middle;\n",
       "    }\n",
       "\n",
       "    .dataframe tbody tr th {\n",
       "        vertical-align: top;\n",
       "    }\n",
       "\n",
       "    .dataframe thead th {\n",
       "        text-align: right;\n",
       "    }\n",
       "</style>\n",
       "<table border=\"1\" class=\"dataframe\">\n",
       "  <thead>\n",
       "    <tr style=\"text-align: right;\">\n",
       "      <th></th>\n",
       "      <th>Features</th>\n",
       "      <th>Best Subset</th>\n",
       "      <th>Ridge</th>\n",
       "      <th>LASSO</th>\n",
       "    </tr>\n",
       "  </thead>\n",
       "  <tbody>\n",
       "    <tr>\n",
       "      <th>0</th>\n",
       "      <td>lcavol</td>\n",
       "      <td>0.627607</td>\n",
       "      <td>0.550337</td>\n",
       "      <td>0.566300</td>\n",
       "    </tr>\n",
       "    <tr>\n",
       "      <th>1</th>\n",
       "      <td>lweight</td>\n",
       "      <td>0.738375</td>\n",
       "      <td>0.430148</td>\n",
       "      <td>0.572821</td>\n",
       "    </tr>\n",
       "    <tr>\n",
       "      <th>2</th>\n",
       "      <td>age</td>\n",
       "      <td>null</td>\n",
       "      <td>-0.014697</td>\n",
       "      <td>-0.017878</td>\n",
       "    </tr>\n",
       "    <tr>\n",
       "      <th>3</th>\n",
       "      <td>lbph</td>\n",
       "      <td>null</td>\n",
       "      <td>0.154290</td>\n",
       "      <td>0.141910</td>\n",
       "    </tr>\n",
       "    <tr>\n",
       "      <th>4</th>\n",
       "      <td>svi</td>\n",
       "      <td>null</td>\n",
       "      <td>0.387669</td>\n",
       "      <td>0.611769</td>\n",
       "    </tr>\n",
       "    <tr>\n",
       "      <th>5</th>\n",
       "      <td>lcp</td>\n",
       "      <td>null</td>\n",
       "      <td>-0.102993</td>\n",
       "      <td>-0.162829</td>\n",
       "    </tr>\n",
       "    <tr>\n",
       "      <th>6</th>\n",
       "      <td>gleason</td>\n",
       "      <td>null</td>\n",
       "      <td>-0.046865</td>\n",
       "      <td>0.000000</td>\n",
       "    </tr>\n",
       "    <tr>\n",
       "      <th>7</th>\n",
       "      <td>pgg45</td>\n",
       "      <td>null</td>\n",
       "      <td>0.009390</td>\n",
       "      <td>0.008575</td>\n",
       "    </tr>\n",
       "  </tbody>\n",
       "</table>\n",
       "</div>"
      ],
      "text/plain": [
       "  Features Best Subset     Ridge     LASSO\n",
       "0   lcavol    0.627607  0.550337  0.566300\n",
       "1  lweight    0.738375  0.430148  0.572821\n",
       "2      age        null -0.014697 -0.017878\n",
       "3     lbph        null  0.154290  0.141910\n",
       "4      svi        null  0.387669  0.611769\n",
       "5      lcp        null -0.102993 -0.162829\n",
       "6  gleason        null -0.046865  0.000000\n",
       "7    pgg45        null  0.009390  0.008575"
      ]
     },
     "execution_count": 102,
     "metadata": {},
     "output_type": "execute_result"
    }
   ],
   "source": [
    "# comparison\n",
    "\n",
    "feature_weights_best_subset = list(best_subsets_best.coef_[0]) + ['null']*6 \n",
    "test_errors_row = {'Features': 'Test Error', 'Best Subset': best_mse, 'Ridge': mean_squared_error(Y_test, best.predict(X_test)), 'LASSO' : mse}\n",
    "results_df = pd.DataFrame({'Features' : features, 'Best Subset': feature_weights_best_subset, 'Ridge': best.coef_[0], 'LASSO' : cross_val.coef_})\n",
    "results_df\n",
    "\n"
   ]
  },
  {
   "cell_type": "code",
   "execution_count": null,
   "metadata": {},
   "outputs": [],
   "source": []
  }
 ],
 "metadata": {
  "colab": {
   "collapsed_sections": [],
   "name": "HomeWork7.ipynb",
   "provenance": []
  },
  "kernelspec": {
   "display_name": "Python 3 (ipykernel)",
   "language": "python",
   "name": "python3"
  },
  "language_info": {
   "codemirror_mode": {
    "name": "ipython",
    "version": 3
   },
   "file_extension": ".py",
   "mimetype": "text/x-python",
   "name": "python",
   "nbconvert_exporter": "python",
   "pygments_lexer": "ipython3",
   "version": "3.9.17"
  },
  "vscode": {
   "interpreter": {
    "hash": "31f2aee4e71d21fbe5cf8b01ff0e069b9275f58929596ceb00d14d90e3e16cd6"
   }
  }
 },
 "nbformat": 4,
 "nbformat_minor": 4
}
